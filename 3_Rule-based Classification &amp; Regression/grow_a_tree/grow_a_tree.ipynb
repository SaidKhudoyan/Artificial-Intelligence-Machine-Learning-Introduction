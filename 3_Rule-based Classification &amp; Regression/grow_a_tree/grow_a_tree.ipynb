{
 "cells": [
  {
   "cell_type": "markdown",
   "id": "a72266b7",
   "metadata": {},
   "source": [
    "<div style=\"text-align: center;\">\n",
    "    <h1 style=\"color: #3498db;\">Artificial Intelligence & Machine Learning</h1>\n",
    "    <h2 style=\"color: #3498db;\">DecisionTree Splitting Criteria</h2>\n",
    "</div>\n",
    "\n",
    "-------------------------------------------------------------"
   ]
  },
  {
   "cell_type": "markdown",
   "id": "95948eec",
   "metadata": {},
   "source": [
    "<div style=\"background-color: #f2f2f2; padding: 10px; border-radius: 5px;\">\n",
    "    <b>Authors:</b> K. Said<br>\n",
    "    <b>Date:</b> 08-09-2023\n",
    "</div>\n",
    "\n",
    "<div style=\"background-color: #e6e6e6; padding: 10px; border-radius: 5px; margin-top: 10px;\">\n",
    "    <p>This notebook is part of the \"Artificial Intelligence & Machine Learning\" lecture material. The following copyright statement applies to all contents and code within this file.</p>\n",
    "    <b>Copyright statement:</b>\n",
    "    <p>This material, no matter whether in printed or electronic form, may be used for personal and non-commercial educational use only. Any reproduction of this manuscript, no matter whether as a whole or in parts, no matter whether in printed or in electronic form, requires explicit prior acceptance of the authors and lecturers.</p>\n",
    "</div>\n"
   ]
  },
  {
   "cell_type": "markdown",
   "id": "42dfc02a",
   "metadata": {},
   "source": [
    "<h1 style=\"color:rgb(0,120,170)\">Introduction</h1>\n",
    "\n",
    "-----------------------------------------------\n",
    "\n",
    "<h2 style=\"color:rgb(0,120,0)\">What you have learned so far</h2>\n",
    "\n",
    "--------------------------------------------------------------------\n",
    "\n",
    "Now that you arrived at one of the last exercises, let us have a short recap of what we have learned so far.\n",
    "In the first exercises we chose a dataset, analysed it and tried to gain some insights. In the steps afterwards we preprocessed the dataset, saved the preprocessed data and loaded it for our ML-models. Afterwards we made some predictions with \"relatively\" simple models and learned about different evaluation metrics for different subareas of AI (regression, classification, clustering).\n",
    "\n",
    "<h2 style=\"color:rgb(0,120,0)\">Our Task</h2>\n",
    "\n",
    "-------------------------------------------------\n",
    "\n",
    "In this notebook, our focus will be instead on different splitting criteria of DecisionTree Classifiers, such as Entropy and Gini. We will try to have a look at the created Decision-Trees and if possible, further increase their accuracy by using GridSearch.\n",
    "\n",
    "\n",
    "\n"
   ]
  },
  {
   "cell_type": "markdown",
   "id": "c2f07a2a",
   "metadata": {},
   "source": [
    "<h1 style=\"color:rgb(0,120,170)\">Splitting Criteria</h1>\n",
    "\n",
    "\n",
    "When using Decision Trees to predict some values/classes, we have to somehow decide when to split a dataset. The choise of how to split the data at each node is very crucial and is determined by a splitting criterion. \n",
    "Now what is the splitting criterion good for? Well, the splitting criterion is needed to measure how good the quality of a split was. Two commonly used criteria are Gini impurity and Entropy, often used in conjunction with Information Gain.\n",
    "\n",
    "And that's exactly what we are going to do in this notebook. We will play around with different splitting criteria and also try to finetune a Decision Tree Model to further increase the accuracy of our predictions. For this very purpose we will play around with the breast cancer dataset and try to predict wether an example should be labeled as cancer or non-cancer.\n",
    "\n",
    "**Sidenote**: The breast cancer dataset is freely available on kaggle. The features are computed from a digitized image of a fine needle aspirate (FNA) of a breast mass. They describe characteristics of the cell nuclei present in the image. The dataset is also available by simply using sklearn's [load_breast_cancer()](https://scikit-learn.org/stable/modules/generated/sklearn.datasets.load_breast_cancer.html) function."
   ]
  },
  {
   "cell_type": "code",
   "execution_count": null,
   "id": "cfbf6f53",
   "metadata": {},
   "outputs": [],
   "source": [
    "# Get some necessary imports\n",
    "import pandas as pd\n",
    "import matplotlib.pyplot as plt\n",
    "import seaborn as sns\n",
    "import pandas as pd\n",
    "import numpy as np\n",
    "import mod5_utils\n",
    "\n",
    "from sklearn.tree import plot_tree\n",
    "from sklearn.model_selection import train_test_split\n",
    "from sklearn.datasets import load_breast_cancer\n",
    "from sklearn.tree import DecisionTreeClassifier\n",
    "from sklearn.model_selection import GridSearchCV\n",
    "\n",
    "np.random.seed(42)"
   ]
  },
  {
   "cell_type": "markdown",
   "id": "426d5291",
   "metadata": {},
   "source": [
    "<details>\n",
    "<summary style=\"font-size: larger; color: white; background-color: rgba(255, 165, 0, 0.6); border: 1px solid grey; padding: 5px 15px; border-radius: 8px; cursor: pointer;\">Load dataset</summary>\n",
    "\n",
    "<div style=\"background-color: rgba(255, 204, 153, 0.6); padding: 10px; border-radius: 5px;\">\n",
    "   As usual, we first start by loading our dataset and having a short look at it. In order to get everything in a compact view, we will use the <a href=\"https://pandas.pydata.org/docs/reference/api/pandas.DataFrame.describe.html\" target=\"_blank\" style=\"color: blue; text-decoration: none;\">describe()</a> method of pandas.\n",
    "</div>\n",
    "</details>\n"
   ]
  },
  {
   "cell_type": "code",
   "execution_count": null,
   "id": "6e8f265c",
   "metadata": {},
   "outputs": [],
   "source": [
    "# RUN CODE CELL\n",
    "breast_cancer = load_breast_cancer()\n",
    "X = breast_cancer.data\n",
    "y = breast_cancer.target\n",
    "\n",
    "data = pd.DataFrame(data=X, columns=breast_cancer.feature_names)\n",
    "data['target'] = y\n",
    "\n",
    "display(data, data.describe())"
   ]
  },
  {
   "cell_type": "markdown",
   "id": "acfa7c85",
   "metadata": {},
   "source": [
    "<div style=\"background-color: #f2f2f2; padding: 10px; border-radius: 5px;\">\n",
    "    <b>Dataset Overview</b>: Based on above \"description\" of the dataset, we can not only see the mean of the dataset (for different features), but also multiple other things such as standard deviation, min, max and some more. Have a look at above table and try to get a feeling for the dataset before moving on.\n",
    "\n",
    "</div>\n"
   ]
  },
  {
   "attachments": {
    "image.png": {
     "image/png": "[encoded data removed]"
    }
   },
   "cell_type": "markdown",
   "id": "e62fb78c",
   "metadata": {},
   "source": [
    "<details>\n",
    "<summary style=\"font-size: larger; color: white; background-color: rgba(255, 165, 0, 0.6); border: 1px solid grey; padding: 5px 15px; border-radius: 8px; cursor: pointer;\">Split dataset</summary>\n",
    "\n",
    "<div style=\"background-color: rgba(255, 204, 153, 0.6); padding: 10px; border-radius: 5px;\">\n",
    "   Create a train and test dataset, where the train_dataset has 75% of all data. \n",
    "   If you did everything right, then the size of the dataset should look like this:\n",
    "\n",
    "![image.png](attachment:image.png)\n",
    "    \n",
    "\n",
    "**HINT:** Try to remember how we preprocessed the dataset in Module 3.\n",
    "    \n",
    "</div>\n",
    "</details>\n"
   ]
  },
  {
   "cell_type": "raw",
   "id": "7394498d-4b53-4b0a-ab88-138075ce7663",
   "metadata": {},
   "source": [
    "# RECAP: Split the data into training and testing sets\n",
    "X_train, X_test, y_train, y_test = train_test_split(X, y, test_size=0.25, random_state=42)\n",
    "print(\"-\"*30)\n",
    "print(f\"X_Train: {X_train.shape}, X_Test: {X_test.shape}, Y_Train: {y_train.shape}, Y_Test{y_test.shape}\")\n",
    "print(\"-\"*30)"
   ]
  },
  {
   "cell_type": "code",
   "execution_count": null,
   "id": "e3e0f0b8",
   "metadata": {},
   "outputs": [],
   "source": [
    "# TODO: Split dataset --> Naming should be X_train, X_test, y_train, y_test\n",
    "\n"
   ]
  },
  {
   "cell_type": "code",
   "execution_count": null,
   "id": "b163eaec",
   "metadata": {},
   "outputs": [],
   "source": [
    "# RUN CODE CELL --> Tests wether you did everything right\n",
    "mod5_utils.data_split_test(X_train, y_train, X_test, y_test)"
   ]
  },
  {
   "cell_type": "markdown",
   "id": "59254811",
   "metadata": {},
   "source": [
    "<details>\n",
    "<summary style=\"font-size: larger; color: white; background-color: rgba(255, 165, 0, 0.6); border: 1px solid grey; padding: 5px 15px; border-radius: 8px; cursor: pointer;\">Information Gain and Entropy</summary>\n",
    "\n",
    "<div style=\"background-color: rgba(255, 204, 153, 0.6); padding: 10px; border-radius: 5px;\">\n",
    "Next up we want to load a simple DecisionTree Classifier and train it on the newly created Trainingset. However, as you know from the lectures, we have to know some kind of splitting criteria in order to correctly implement our model, which is why we want to use in this section the Entropy as our splitting criteria for our model.\n",
    "\n",
    "Here a short recap how the formula looked:\n",
    "    \n",
    "Information Gain (IG) Formula:\n",
    "$IG(D, A) = H(D) - H(D|A)$\n",
    "\n",
    "Entropy (H) Formula:\n",
    "\n",
    "$H(D) = - \\sum_{i=1}^{c} p_i \\log_2(p_i)$\n",
    "\n",
    "Where:\n",
    "- $IG(D, A)$ represents the Information Gain for a dataset $D$ and attribute $A$.\n",
    "- $H(D)$ represents the entropy of dataset $D$.\n",
    "- $H(D|A)$ represents the conditional entropy of dataset $D$ given attribute $A$.\n",
    "- $c$ represents the number of classes or outcomes in the dataset.\n",
    "- $p_i$ represents the probability of class $i$ in the dataset $D$.\n",
    "    \n",
    "    \n",
    "Don't worry, you don't have to implement everything from scratch, in order to make our life easier, we will use the <a href=\"https://scikit-learn.org/stable/modules/generated/sklearn.tree.DecisionTreeClassifier.html\" target=\"_blank\" style=\"color: blue; text-decoration: none;\">DecisionTreeClassifier()</a> class of sklearn. With this we can simply define the criteria. The parameters of the model should be set as follows:\n",
    "    \n",
    "- criterion = entropy\n",
    "- max_depth = 5\n",
    "- random_state = 42\n",
    "\n",
    ".\n",
    "</div>\n",
    "</details>\n"
   ]
  },
  {
   "cell_type": "raw",
   "id": "f94f13ef-0bda-4c89-bbc9-a6b19e8df05d",
   "metadata": {},
   "source": [
    "# EXAMPLE: Create and fit a decision tree classifier using Information Gain and Entropy\n",
    "entropy_classifier = DecisionTreeClassifier(criterion='entropy', max_depth=5, random_state=42)\n",
    "entropy_classifier.fit(X_train, y_train)"
   ]
  },
  {
   "cell_type": "code",
   "execution_count": null,
   "id": "ef9b7946",
   "metadata": {},
   "outputs": [],
   "source": [
    "# TODO: Load model\n",
    "entropy_classifier = None\n",
    "\n",
    "# TODO: Fit the model\n",
    "\n"
   ]
  },
  {
   "cell_type": "code",
   "execution_count": null,
   "id": "573874f0",
   "metadata": {},
   "outputs": [],
   "source": [
    "# RUN CODE CELL --> Checks for model implementation\n",
    "mod5_utils.test_model(entropy_classifier, \"entropy\")"
   ]
  },
  {
   "cell_type": "code",
   "execution_count": null,
   "id": "3a203992",
   "metadata": {},
   "outputs": [],
   "source": [
    "# RUN CODE CELL ---> Visualization for your DecisionTree\n",
    "plt.figure(figsize=(15, 9))\n",
    "plot_tree(entropy_classifier, filled=True, feature_names=breast_cancer.feature_names, class_names=breast_cancer.target_names)\n",
    "plt.show()\n",
    "\n",
    "entropy_accuracy = entropy_classifier.score(X_test, y_test)\n",
    "print(f'Accuracy (Entropy): {entropy_accuracy:.2f}')"
   ]
  },
  {
   "cell_type": "markdown",
   "id": "db89ae43",
   "metadata": {},
   "source": [
    "<div style=\"background-color: #f2f2f2; padding: 10px; border-radius: 5px;\">\n",
    "    <b>DecisionTree with Entropy</b>: The result looks pretty nice, we got an accuracy of well above 90%. The interesting part might be how the Tree actually made it's splitting decisions. For this, have a closer look at above Tree that was plotted.\n",
    "\n",
    "</div>\n"
   ]
  },
  {
   "cell_type": "markdown",
   "id": "c4d26201",
   "metadata": {},
   "source": [
    "<details>\n",
    "<summary style=\"font-size: larger; color: white; background-color: rgba(255, 165, 0, 0.6); border: 1px solid grey; padding: 5px 15px; border-radius: 8px; cursor: pointer;\">Gini</summary>\n",
    "\n",
    "<div style=\"background-color: rgba(255, 204, 153, 0.6); padding: 10px; border-radius: 5px;\">\n",
    "   Now that we saw the result of our classifier by using Entropy, let's try it this time but with Gini. But before we start, below is the formula in order to refresh your memory.\n",
    "\n",
    "Gini Impurity (GI) Formula:\n",
    "\n",
    "$GI(D) = 1 - \\sum_{i=1}^{c} p_i^2$\n",
    "\n",
    "Where:\n",
    "- $GI(D)$ represents the Gini Impurity of dataset $D$.\n",
    "- $c$ represents the number of classes or outcomes in the dataset.\n",
    "- $p_i$ represents the probability of class $i$ in the dataset $D$.\n",
    "\n",
    " \n",
    "Also here use the same parameters when loading the model, with the only difference being the criterion\n",
    "- criterion = gini\n",
    "- max_depth = 5\n",
    "- random_state = 42.\n",
    "</div>\n",
    "</details>\n"
   ]
  },
  {
   "cell_type": "raw",
   "id": "98b7fef2-b694-4572-8e31-76233cf56951",
   "metadata": {},
   "source": [
    "# EXAMPLE: Gini Model\n",
    "gini_classifier = DecisionTreeClassifier(criterion='gini',max_depth=5, random_state=42)\n",
    "gini_classifier.fit(X_train, y_train)"
   ]
  },
  {
   "cell_type": "code",
   "execution_count": null,
   "id": "a1991c66",
   "metadata": {},
   "outputs": [],
   "source": [
    "# TODO: Load model with gini\n",
    "gini_classifier = None\n",
    "\n",
    "# TODO: Fit the model\n"
   ]
  },
  {
   "cell_type": "code",
   "execution_count": null,
   "id": "93af5d9a",
   "metadata": {},
   "outputs": [],
   "source": [
    "# RUN CODE CELL --> Check correct model implementation\n",
    "mod5_utils.test_model(gini_classifier, \"gini\")"
   ]
  },
  {
   "cell_type": "code",
   "execution_count": null,
   "id": "c8b2881e",
   "metadata": {},
   "outputs": [],
   "source": [
    "plt.figure(figsize=(15, 9))\n",
    "plot_tree(gini_classifier, filled=True, feature_names=breast_cancer.feature_names, class_names=breast_cancer.target_names)\n",
    "plt.show()\n",
    "\n",
    "# Evaluate the classifier\n",
    "gini_accuracy = gini_classifier.score(X_test, y_test)\n",
    "print(f'Accuracy (Entropy): {gini_accuracy:.2f}')"
   ]
  },
  {
   "cell_type": "markdown",
   "id": "a9f6381b",
   "metadata": {},
   "source": [
    "<div style=\"background-color: #f2f2f2; padding: 10px; border-radius: 5px;\">\n",
    "    <b>DecisionTree with Gini</b>: Also here we got a pretty high accuracy (even the same). However, when comparing both trees, the structure does indeed look a bit different. Try to compare both trees and understand their differences.\n",
    "\n",
    "</div>\n"
   ]
  },
  {
   "cell_type": "markdown",
   "id": "946b93f7",
   "metadata": {},
   "source": [
    "<details>\n",
    "<summary style=\"font-size: larger; color: white; background-color: rgba(255, 165, 0, 0.6); border: 1px solid grey; padding: 5px 15px; border-radius: 8px; cursor: pointer;\">Fine-Tune Parameters</summary>\n",
    "\n",
    "<div style=\"background-color: rgba(255, 204, 153, 0.6); padding: 10px; border-radius: 5px;\">\n",
    "   Now in this final step we want to see wether we can further improve the accuracy of our model. For this very purpose we will use <a href=\"https://scikit-learn.org/stable/modules/generated/sklearn.model_selection.GridSearchCV.html\" target=\"_blank\" style=\"color: blue; text-decoration: none;\">GridSearch()</a> of sklearn. This will help us to finetune our model. Below are some parameters and their corresponding values that we already filled for you. Your task now is to further add/delete values and play around with it to find the best model. Try to beat the previous models.\n",
    "</div>\n",
    "</details>\n"
   ]
  },
  {
   "cell_type": "code",
   "execution_count": null,
   "id": "0ce25d2d",
   "metadata": {},
   "outputs": [],
   "source": [
    "new_dt_model = DecisionTreeClassifier()\n",
    "\n",
    "param_grid = {\n",
    "    'max_depth': [1, 2],\n",
    "    'min_samples_split': [2, 3],\n",
    "    'min_samples_leaf': [1],\n",
    "    'criterion': [\"gini\", \"entropy\"]\n",
    "}\n",
    "grid_search = GridSearchCV(new_dt_model, param_grid, scoring='accuracy', cv=5)\n",
    "grid_search.fit(X_train, y_train)\n",
    "\n",
    "best_params = grid_search.best_params_\n",
    "best_model = grid_search.best_estimator_\n",
    "best_model_score = best_model.score(X_test, y_test)\n",
    "print(\"Best Hyperparameters:\", best_params)\n",
    "print(\"Best Model Accuracy:\", best_model_score)"
   ]
  },
  {
   "cell_type": "markdown",
   "id": "fc284587",
   "metadata": {},
   "source": [
    "<div style=\"background-color: #f2f2f2; padding: 10px; border-radius: 5px;\">\n",
    "    <b>Results after fine-tuning</b>: If you were able to beat the previous models, try to understand why the results got better/worse when changing some parameters. And as a bonus, you might also want to plot the best DecisionTree Classifier.\n",
    "\n",
    "</div>\n"
   ]
  },
  {
   "cell_type": "markdown",
   "id": "ee112c86",
   "metadata": {},
   "source": []
  },
  {
   "cell_type": "code",
   "execution_count": null,
   "id": "97a580b0",
   "metadata": {},
   "outputs": [],
   "source": []
  }
 ],
 "metadata": {
  "kernelspec": {
   "display_name": "Python 3",
   "language": "python",
   "name": "python3"
  },
  "language_info": {
   "codemirror_mode": {
    "name": "ipython",
    "version": 3
   },
   "file_extension": ".py",
   "mimetype": "text/x-python",
   "name": "python",
   "nbconvert_exporter": "python",
   "pygments_lexer": "ipython3",
   "version": "3.8.18"
  }
 },
 "nbformat": 4,
 "nbformat_minor": 5
}
